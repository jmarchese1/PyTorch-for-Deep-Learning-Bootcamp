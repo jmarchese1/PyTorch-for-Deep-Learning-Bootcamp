{
  "cells": [
    {
      "cell_type": "markdown",
      "metadata": {
        "id": "1tXjbKZJfHOo"
      },
      "source": [
        "## 00. PyTorch Fundamentals"
      ]
    },
    {
      "cell_type": "code",
      "execution_count": null,
      "metadata": {
        "colab": {
          "base_uri": "https://localhost:8080/"
        },
        "id": "HtYWodQzy9IJ",
        "outputId": "97a2623f-69fa-4979-8544-1de13bb81eff"
      },
      "outputs": [
        {
          "name": "stdout",
          "output_type": "stream",
          "text": [
            "Hello i'm excited to learn PyTorch!\n"
          ]
        }
      ],
      "source": [
        "print(\"Hello i'm excited to learn PyTorch!\")"
      ]
    },
    {
      "cell_type": "code",
      "execution_count": null,
      "metadata": {
        "colab": {
          "base_uri": "https://localhost:8080/"
        },
        "id": "wQeCpmuXeiEG",
        "outputId": "771e89b7-7c67-40a6-ce7c-5703d7ab0b06"
      },
      "outputs": [
        {
          "name": "stdout",
          "output_type": "stream",
          "text": [
            "Sun May 11 18:12:29 2025       \n",
            "+-----------------------------------------------------------------------------------------+\n",
            "| NVIDIA-SMI 550.54.15              Driver Version: 550.54.15      CUDA Version: 12.4     |\n",
            "|-----------------------------------------+------------------------+----------------------+\n",
            "| GPU  Name                 Persistence-M | Bus-Id          Disp.A | Volatile Uncorr. ECC |\n",
            "| Fan  Temp   Perf          Pwr:Usage/Cap |           Memory-Usage | GPU-Util  Compute M. |\n",
            "|                                         |                        |               MIG M. |\n",
            "|=========================================+========================+======================|\n",
            "|   0  Tesla T4                       Off |   00000000:00:04.0 Off |                    0 |\n",
            "| N/A   39C    P8             10W /   70W |       0MiB /  15360MiB |      0%      Default |\n",
            "|                                         |                        |                  N/A |\n",
            "+-----------------------------------------+------------------------+----------------------+\n",
            "                                                                                         \n",
            "+-----------------------------------------------------------------------------------------+\n",
            "| Processes:                                                                              |\n",
            "|  GPU   GI   CI        PID   Type   Process name                              GPU Memory |\n",
            "|        ID   ID                                                               Usage      |\n",
            "|=========================================================================================|\n",
            "|  No running processes found                                                             |\n",
            "+-----------------------------------------------------------------------------------------+\n"
          ]
        }
      ],
      "source": [
        "!nvidia-smi #only runs when connected to a gpu"
      ]
    },
    {
      "cell_type": "code",
      "execution_count": null,
      "metadata": {
        "colab": {
          "base_uri": "https://localhost:8080/"
        },
        "id": "oeMrg_v2exZL",
        "outputId": "e4c19aaf-4ec7-4217-c5c0-ffd87fa2ab62"
      },
      "outputs": [
        {
          "name": "stdout",
          "output_type": "stream",
          "text": [
            "2.6.0+cu124\n"
          ]
        }
      ],
      "source": [
        "#installing pytorch and fundamental data science packages\n",
        "import torch\n",
        "print(torch.__version__)\n",
        "import pandas as pd\n",
        "import numpy as np\n",
        "import matplotlib.pyplot as plt\n",
        "\n",
        "#version stands for pytorch version + cuda version 124"
      ]
    },
    {
      "cell_type": "markdown",
      "metadata": {
        "id": "YTlYJOdBhMv_"
      },
      "source": [
        "## Introduction to Tensors\n",
        "\n",
        "### Creating tensors\n",
        "\n",
        "PyTorch tensors are created using torch.Tensor() = https://pytorch.org/docs/stable/tensors.html"
      ]
    },
    {
      "cell_type": "code",
      "execution_count": null,
      "metadata": {
        "colab": {
          "base_uri": "https://localhost:8080/"
        },
        "id": "hPQLdeocg3xN",
        "outputId": "d8d66043-c1d5-45d2-98bc-bdb685b9ba52"
      },
      "outputs": [
        {
          "data": {
            "text/plain": [
              "tensor(7)"
            ]
          },
          "execution_count": 4,
          "metadata": {},
          "output_type": "execute_result"
        }
      ],
      "source": [
        "#scalar\n",
        "scalar = torch.tensor(7)\n",
        "scalar"
      ]
    },
    {
      "cell_type": "code",
      "execution_count": null,
      "metadata": {
        "colab": {
          "base_uri": "https://localhost:8080/"
        },
        "id": "hHKkLGFGhLiu",
        "outputId": "56e8405b-b86d-4c04-8830-53a67db23daa"
      },
      "outputs": [
        {
          "data": {
            "text/plain": [
              "0"
            ]
          },
          "execution_count": 5,
          "metadata": {},
          "output_type": "execute_result"
        }
      ],
      "source": [
        "scalar.ndim"
      ]
    },
    {
      "cell_type": "code",
      "execution_count": null,
      "metadata": {
        "colab": {
          "base_uri": "https://localhost:8080/"
        },
        "id": "DJAm9-Pxh_k0",
        "outputId": "ba65d87c-9987-4480-b17b-2ec4b82fde6b"
      },
      "outputs": [
        {
          "data": {
            "text/plain": [
              "7"
            ]
          },
          "execution_count": 6,
          "metadata": {},
          "output_type": "execute_result"
        }
      ],
      "source": [
        "#Get tensor back as python int\n",
        "scalar.item()"
      ]
    },
    {
      "cell_type": "code",
      "execution_count": null,
      "metadata": {
        "colab": {
          "base_uri": "https://localhost:8080/"
        },
        "id": "-Gf7ArMJiF2i",
        "outputId": "0451af0f-95a9-4bf6-bcf3-065db034de1d"
      },
      "outputs": [
        {
          "data": {
            "text/plain": [
              "tensor([7, 7])"
            ]
          },
          "execution_count": 7,
          "metadata": {},
          "output_type": "execute_result"
        }
      ],
      "source": [
        "# Vector, a vector usually has magnitude and direction\n",
        "vector = torch.tensor([7, 7])\n",
        "vector"
      ]
    },
    {
      "cell_type": "code",
      "execution_count": null,
      "metadata": {
        "colab": {
          "base_uri": "https://localhost:8080/"
        },
        "id": "zuiO1wnLiYYd",
        "outputId": "77ac2e55-f365-4130-d05f-0122cd508740"
      },
      "outputs": [
        {
          "data": {
            "text/plain": [
              "1"
            ]
          },
          "execution_count": 8,
          "metadata": {},
          "output_type": "execute_result"
        }
      ],
      "source": [
        "vector.ndim"
      ]
    },
    {
      "cell_type": "code",
      "execution_count": null,
      "metadata": {
        "colab": {
          "base_uri": "https://localhost:8080/"
        },
        "id": "ydTZ-qC5iZca",
        "outputId": "1927f713-59e5-466a-98fa-cab59e3842cd"
      },
      "outputs": [
        {
          "data": {
            "text/plain": [
              "torch.Size([2])"
            ]
          },
          "execution_count": 9,
          "metadata": {},
          "output_type": "execute_result"
        }
      ],
      "source": [
        "vector.shape"
      ]
    },
    {
      "cell_type": "code",
      "execution_count": null,
      "metadata": {
        "colab": {
          "base_uri": "https://localhost:8080/"
        },
        "id": "c2GpKj0DibSa",
        "outputId": "1b9d8dcc-4061-4a89-97cb-c8ad21fb9ee6"
      },
      "outputs": [
        {
          "data": {
            "text/plain": [
              "tensor([[ 7,  8],\n",
              "        [ 9, 10]])"
            ]
          },
          "execution_count": 10,
          "metadata": {},
          "output_type": "execute_result"
        }
      ],
      "source": [
        "# MATRIX\n",
        "MATRIX = torch.tensor([[7, 8],\n",
        "                       [9, 10]])\n",
        "\n",
        "MATRIX"
      ]
    },
    {
      "cell_type": "code",
      "execution_count": null,
      "metadata": {
        "colab": {
          "base_uri": "https://localhost:8080/"
        },
        "id": "aVQD9aQAisT9",
        "outputId": "7d7903a3-de1c-452d-c30a-65540f241feb"
      },
      "outputs": [
        {
          "data": {
            "text/plain": [
              "2"
            ]
          },
          "execution_count": 11,
          "metadata": {},
          "output_type": "execute_result"
        }
      ],
      "source": [
        "MATRIX.ndim"
      ]
    },
    {
      "cell_type": "code",
      "execution_count": null,
      "metadata": {
        "colab": {
          "base_uri": "https://localhost:8080/"
        },
        "id": "rQHpllDjizV5",
        "outputId": "abe3b852-5691-40f3-a0e1-048e693bac8d"
      },
      "outputs": [
        {
          "data": {
            "text/plain": [
              "tensor([7, 8])"
            ]
          },
          "execution_count": 12,
          "metadata": {},
          "output_type": "execute_result"
        }
      ],
      "source": [
        "MATRIX[0]"
      ]
    },
    {
      "cell_type": "code",
      "execution_count": null,
      "metadata": {
        "colab": {
          "base_uri": "https://localhost:8080/"
        },
        "id": "rNsJKOQfi2Mm",
        "outputId": "0c42acb1-bd14-42c8-fac4-e7f3b6bae701"
      },
      "outputs": [
        {
          "data": {
            "text/plain": [
              "tensor([ 9, 10])"
            ]
          },
          "execution_count": 13,
          "metadata": {},
          "output_type": "execute_result"
        }
      ],
      "source": [
        "MATRIX[1]"
      ]
    },
    {
      "cell_type": "code",
      "execution_count": null,
      "metadata": {
        "colab": {
          "base_uri": "https://localhost:8080/"
        },
        "id": "yVM3mu76i4QZ",
        "outputId": "19f9b1a0-1ec4-4085-9d37-a6eaef254bfd"
      },
      "outputs": [
        {
          "data": {
            "text/plain": [
              "torch.Size([2, 2])"
            ]
          },
          "execution_count": 14,
          "metadata": {},
          "output_type": "execute_result"
        }
      ],
      "source": [
        "MATRIX.shape"
      ]
    },
    {
      "cell_type": "code",
      "execution_count": null,
      "metadata": {
        "colab": {
          "base_uri": "https://localhost:8080/"
        },
        "id": "5riMG9iqi75n",
        "outputId": "3795b642-c58e-419e-88c7-b792a9106cd9"
      },
      "outputs": [
        {
          "data": {
            "text/plain": [
              "tensor([[[1, 2, 3],\n",
              "         [3, 6, 5],\n",
              "         [2, 4, 5]]])"
            ]
          },
          "execution_count": 15,
          "metadata": {},
          "output_type": "execute_result"
        }
      ],
      "source": [
        "# TENSOR\n",
        "TENSOR = torch.tensor([[[1, 2, 3],\n",
        "                        [3, 6, 5],\n",
        "                        [2, 4, 5]]])\n",
        "\n",
        "TENSOR\n",
        "\n",
        "#most of the time we won't be crafting tensors by hand pytorch does this behind the scenes"
      ]
    },
    {
      "cell_type": "code",
      "execution_count": null,
      "metadata": {
        "colab": {
          "base_uri": "https://localhost:8080/"
        },
        "id": "CRjYIZmVjP_O",
        "outputId": "ca493d85-4203-41dc-d10f-4f914395b124"
      },
      "outputs": [
        {
          "data": {
            "text/plain": [
              "3"
            ]
          },
          "execution_count": 16,
          "metadata": {},
          "output_type": "execute_result"
        }
      ],
      "source": [
        "TENSOR.ndim #3 square brackets"
      ]
    },
    {
      "cell_type": "code",
      "execution_count": null,
      "metadata": {
        "colab": {
          "base_uri": "https://localhost:8080/"
        },
        "id": "0co_gGvljYxS",
        "outputId": "88647f5d-76b0-4030-d7c7-53f9310baab6"
      },
      "outputs": [
        {
          "data": {
            "text/plain": [
              "torch.Size([1, 3, 3])"
            ]
          },
          "execution_count": 17,
          "metadata": {},
          "output_type": "execute_result"
        }
      ],
      "source": [
        "TENSOR.shape #means one tensor, 3 rows, 3 cols"
      ]
    },
    {
      "cell_type": "code",
      "execution_count": null,
      "metadata": {
        "colab": {
          "base_uri": "https://localhost:8080/"
        },
        "id": "PszSKb2Rjd9N",
        "outputId": "c220f935-4673-4226-9797-d8097e82ab57"
      },
      "outputs": [
        {
          "data": {
            "text/plain": [
              "tensor([[1, 2, 3],\n",
              "        [3, 6, 5],\n",
              "        [2, 4, 5]])"
            ]
          },
          "execution_count": 18,
          "metadata": {},
          "output_type": "execute_result"
        }
      ],
      "source": [
        "TENSOR[0]"
      ]
    },
    {
      "cell_type": "code",
      "execution_count": null,
      "metadata": {
        "colab": {
          "base_uri": "https://localhost:8080/"
        },
        "id": "xc8MkMl4jkPv",
        "outputId": "4eadbce1-67f4-4630-daeb-82451eaabb8b"
      },
      "outputs": [
        {
          "data": {
            "text/plain": [
              "tensor([[[ 1,  2,  9],\n",
              "         [ 9,  0,  1],\n",
              "         [23,  1,  1]],\n",
              "\n",
              "        [[ 1,  2,  3],\n",
              "         [ 4,  5,  6],\n",
              "         [ 7,  8, 90]]])"
            ]
          },
          "execution_count": 19,
          "metadata": {},
          "output_type": "execute_result"
        }
      ],
      "source": [
        "#creating a tensor to practice\n",
        "\n",
        "tensor = torch.tensor([[[1, 2, 9],\n",
        "                        [9, 0, 1],\n",
        "                        [23, 1, 1]],\n",
        "                       [[1, 2, 3],\n",
        "                        [4, 5, 6],\n",
        "                        [7, 8 ,90]]])\n",
        "tensor"
      ]
    },
    {
      "cell_type": "code",
      "execution_count": null,
      "metadata": {
        "colab": {
          "base_uri": "https://localhost:8080/"
        },
        "id": "2dsIkM_0kMq5",
        "outputId": "608a31ed-a361-49e4-e4e4-8c245d09b243"
      },
      "outputs": [
        {
          "data": {
            "text/plain": [
              "3"
            ]
          },
          "execution_count": 20,
          "metadata": {},
          "output_type": "execute_result"
        }
      ],
      "source": [
        "tensor.ndim #still 3 dimensions even though theres 2 seperate tensors sthe first shape index will just be\n",
        "#changed to 2"
      ]
    },
    {
      "cell_type": "code",
      "execution_count": null,
      "metadata": {
        "colab": {
          "base_uri": "https://localhost:8080/"
        },
        "id": "HpXtPnbRkQRz",
        "outputId": "acf2aae6-7d5e-43ac-a0eb-a15795d0118c"
      },
      "outputs": [
        {
          "data": {
            "text/plain": [
              "torch.Size([2, 3, 3])"
            ]
          },
          "execution_count": 21,
          "metadata": {},
          "output_type": "execute_result"
        }
      ],
      "source": [
        "tensor.shape"
      ]
    },
    {
      "cell_type": "code",
      "execution_count": null,
      "metadata": {
        "colab": {
          "base_uri": "https://localhost:8080/"
        },
        "id": "ywEq77dJkcOc",
        "outputId": "abac229a-ba4c-4ffc-af33-528b24009e2e"
      },
      "outputs": [
        {
          "data": {
            "text/plain": [
              "tensor([[ 1,  2,  9],\n",
              "        [ 9,  0,  1],\n",
              "        [23,  1,  1]])"
            ]
          },
          "execution_count": 22,
          "metadata": {},
          "output_type": "execute_result"
        }
      ],
      "source": [
        "tensor[0] #gets the first tensor"
      ]
    },
    {
      "cell_type": "code",
      "execution_count": null,
      "metadata": {
        "colab": {
          "base_uri": "https://localhost:8080/"
        },
        "id": "dI0Yp_wHkeGn",
        "outputId": "4b2fd025-afcf-4d9d-fc5d-4348565af0d0"
      },
      "outputs": [
        {
          "data": {
            "text/plain": [
              "tensor([[ 1,  2,  3],\n",
              "        [ 4,  5,  6],\n",
              "        [ 7,  8, 90]])"
            ]
          },
          "execution_count": 23,
          "metadata": {},
          "output_type": "execute_result"
        }
      ],
      "source": [
        "tensor[1] #gets the second tensor"
      ]
    },
    {
      "cell_type": "code",
      "execution_count": null,
      "metadata": {
        "colab": {
          "base_uri": "https://localhost:8080/"
        },
        "id": "WF6DFxUXkjBU",
        "outputId": "d01a4228-7816-478e-928b-176e410b0ecf"
      },
      "outputs": [
        {
          "data": {
            "text/plain": [
              "tensor([1, 2, 3])"
            ]
          },
          "execution_count": 24,
          "metadata": {},
          "output_type": "execute_result"
        }
      ],
      "source": [
        "tensor[1, 0] # second tensor first vector / row"
      ]
    },
    {
      "cell_type": "code",
      "execution_count": null,
      "metadata": {
        "colab": {
          "base_uri": "https://localhost:8080/"
        },
        "id": "VmMNf8Ahkr_e",
        "outputId": "23d6995a-f63c-46a4-95d8-b4703a34d2da"
      },
      "outputs": [
        {
          "data": {
            "text/plain": [
              "tensor(1)"
            ]
          },
          "execution_count": 25,
          "metadata": {},
          "output_type": "execute_result"
        }
      ],
      "source": [
        "tensor[0, 0, 0] #picking a scalar out, the first tensor, first vector, first position"
      ]
    },
    {
      "cell_type": "markdown",
      "metadata": {
        "id": "Hyi3j2PHlhb9"
      },
      "source": [
        "### Random tensors\n",
        "\n",
        "why random tensors?\n",
        "\n",
        "Random tensors are important because the way many neural networks learn is that they start with tensors full of random numbers and then adjust those random numbers to better represent the data.\n",
        "\n",
        "'start with random numbers -> look at data -> update random numbers -> look at data -> update random numbers'\n",
        "\n",
        "torch random tensors - https://pytorch.org/docs/stable/generated/torch.rand.html"
      ]
    },
    {
      "cell_type": "code",
      "execution_count": null,
      "metadata": {
        "colab": {
          "base_uri": "https://localhost:8080/"
        },
        "id": "1wNpbbgFkyIE",
        "outputId": "4114e612-a2bc-4c92-d380-fee4dd11b420"
      },
      "outputs": [
        {
          "data": {
            "text/plain": [
              "tensor([[0.9328, 0.9740, 0.6457, 0.8169],\n",
              "        [0.2541, 0.0325, 0.2398, 0.9367],\n",
              "        [0.1778, 0.3220, 0.1157, 0.1212]])"
            ]
          },
          "execution_count": 26,
          "metadata": {},
          "output_type": "execute_result"
        }
      ],
      "source": [
        "#create a random tensor of size (3, 4)\n",
        "random_tensor = torch.rand(3, 4)\n",
        "random_tensor"
      ]
    },
    {
      "cell_type": "code",
      "execution_count": null,
      "metadata": {
        "colab": {
          "base_uri": "https://localhost:8080/"
        },
        "id": "7C93tgrxm1Q0",
        "outputId": "ddf0e7c6-87eb-4e04-ab65-633fe3413339"
      },
      "outputs": [
        {
          "data": {
            "text/plain": [
              "2"
            ]
          },
          "execution_count": 27,
          "metadata": {},
          "output_type": "execute_result"
        }
      ],
      "source": [
        "random_tensor.ndim"
      ]
    },
    {
      "cell_type": "code",
      "execution_count": null,
      "metadata": {
        "colab": {
          "base_uri": "https://localhost:8080/"
        },
        "id": "YF4MjeKum4Wu",
        "outputId": "92013e6d-d6a8-47dd-9174-05510c8f8113"
      },
      "outputs": [
        {
          "data": {
            "text/plain": [
              "(torch.Size([224, 224, 3]), 3)"
            ]
          },
          "execution_count": 28,
          "metadata": {},
          "output_type": "execute_result"
        }
      ],
      "source": [
        "#create a random tensor with similar shape to an image tensor\n",
        "random_image_size_tensor = torch.rand(size = (224, 224, 3)) #height, width, color channels\n",
        "random_image_size_tensor.shape, random_image_size_tensor.ndim"
      ]
    },
    {
      "cell_type": "code",
      "execution_count": null,
      "metadata": {
        "colab": {
          "base_uri": "https://localhost:8080/"
        },
        "id": "lyT_dyYzninh",
        "outputId": "265f18e4-7f12-4db3-d6bb-738bebf83e04"
      },
      "outputs": [
        {
          "data": {
            "text/plain": [
              "(3, torch.Size([5, 10, 10]))"
            ]
          },
          "execution_count": 29,
          "metadata": {},
          "output_type": "execute_result"
        }
      ],
      "source": [
        "#pytorch allows to create tensors quite easily with rand function\n",
        "\n",
        "#can use the size parameter or not\n",
        "random_tensor_2 = torch.rand(size = (5, 10, 10))\n",
        "random_tensor_2\n",
        "\n",
        "#creates 5 seperate tensors with 10 by 10 shape\n",
        "\n",
        "random_tensor_2.ndim, random_tensor_2.shape"
      ]
    },
    {
      "cell_type": "markdown",
      "metadata": {
        "id": "VXuX2MSeocNu"
      },
      "source": [
        "### Zeros and ones"
      ]
    },
    {
      "cell_type": "code",
      "execution_count": null,
      "metadata": {
        "colab": {
          "base_uri": "https://localhost:8080/"
        },
        "id": "0rMT1GD8n-fx",
        "outputId": "42ce528e-e154-4698-9598-ba9d2df515d9"
      },
      "outputs": [
        {
          "data": {
            "text/plain": [
              "tensor([[0., 0., 0., 0.],\n",
              "        [0., 0., 0., 0.],\n",
              "        [0., 0., 0., 0.]])"
            ]
          },
          "execution_count": 30,
          "metadata": {},
          "output_type": "execute_result"
        }
      ],
      "source": [
        "#zeros is more common than ones in use, random is the most common\n",
        "zeros = torch.zeros(size = (3, 4))\n",
        "zeros"
      ]
    },
    {
      "cell_type": "code",
      "execution_count": null,
      "metadata": {
        "colab": {
          "base_uri": "https://localhost:8080/"
        },
        "id": "GPH5XDlEoiJO",
        "outputId": "bc9a4596-c5cc-46b3-848a-c69079f0ec38"
      },
      "outputs": [
        {
          "data": {
            "text/plain": [
              "tensor([[1., 1., 1., 1.],\n",
              "        [1., 1., 1., 1.],\n",
              "        [1., 1., 1., 1.]])"
            ]
          },
          "execution_count": 31,
          "metadata": {},
          "output_type": "execute_result"
        }
      ],
      "source": [
        "#create a tensor of all ones\n",
        "ones = torch.ones(size = (3, 4))\n",
        "ones"
      ]
    },
    {
      "cell_type": "code",
      "execution_count": null,
      "metadata": {
        "colab": {
          "base_uri": "https://localhost:8080/"
        },
        "id": "zgTR3fbIovBx",
        "outputId": "44d40bd2-9825-4729-9cc9-f4072214c7b8"
      },
      "outputs": [
        {
          "data": {
            "text/plain": [
              "torch.float32"
            ]
          },
          "execution_count": 32,
          "metadata": {},
          "output_type": "execute_result"
        }
      ],
      "source": [
        "ones.dtype"
      ]
    },
    {
      "cell_type": "code",
      "execution_count": null,
      "metadata": {
        "colab": {
          "base_uri": "https://localhost:8080/"
        },
        "id": "dNRksAJLowZp",
        "outputId": "f2639795-0a91-477b-9516-956c4743df78"
      },
      "outputs": [
        {
          "data": {
            "text/plain": [
              "torch.float32"
            ]
          },
          "execution_count": 33,
          "metadata": {},
          "output_type": "execute_result"
        }
      ],
      "source": [
        "random_tensor.dtype"
      ]
    },
    {
      "cell_type": "markdown",
      "metadata": {
        "id": "71GILWNupUVf"
      },
      "source": [
        "### Creating a range of tensors and tensors-like"
      ]
    },
    {
      "cell_type": "code",
      "execution_count": null,
      "metadata": {
        "colab": {
          "base_uri": "https://localhost:8080/"
        },
        "id": "3fLZ0Bqopb2r",
        "outputId": "b1d3eede-784e-44cc-f89e-e68710cd8bbf"
      },
      "outputs": [
        {
          "data": {
            "text/plain": [
              "tensor([ 1,  2,  3,  4,  5,  6,  7,  8,  9, 10])"
            ]
          },
          "execution_count": 34,
          "metadata": {},
          "output_type": "execute_result"
        }
      ],
      "source": [
        "#use torch.arange()\n",
        "one_to_ten = torch.arange(start = 1, end = 11, step = 1)\n",
        "one_to_ten"
      ]
    },
    {
      "cell_type": "code",
      "execution_count": null,
      "metadata": {
        "colab": {
          "base_uri": "https://localhost:8080/"
        },
        "id": "gNKDL1D6pjUR",
        "outputId": "dba6cac2-7b82-47dd-cd61-88f905e83c8a"
      },
      "outputs": [
        {
          "data": {
            "text/plain": [
              "tensor([0, 0, 0, 0, 0, 0, 0, 0, 0, 0])"
            ]
          },
          "execution_count": 35,
          "metadata": {},
          "output_type": "execute_result"
        }
      ],
      "source": [
        "#creating tensors like\n",
        "\n",
        "#gets zeros in the same shape as one_to_ten\n",
        "ten_zeros = torch.zeros_like(input = one_to_ten)\n",
        "ten_zeros"
      ]
    },
    {
      "cell_type": "markdown",
      "metadata": {
        "id": "uuskKT-rqvV5"
      },
      "source": [
        "###Tensor dataypes\n",
        "\n",
        "**Note** Tensor datatypes is one of the 3 big erros you'll run into with PyTorch and deep learning\n",
        "\n",
        "1. Tensors not right datatype\n",
        "2. Tensors not right shape\n",
        "3. Tensors not on the right device (none by default, using cpu)"
      ]
    },
    {
      "cell_type": "code",
      "execution_count": null,
      "metadata": {
        "colab": {
          "base_uri": "https://localhost:8080/"
        },
        "id": "QR2CALxWp_Gs",
        "outputId": "d9947f5c-8c70-45e0-8525-0b01fde95a1f"
      },
      "outputs": [
        {
          "data": {
            "text/plain": [
              "tensor([3., 6., 9.])"
            ]
          },
          "execution_count": 36,
          "metadata": {},
          "output_type": "execute_result"
        }
      ],
      "source": [
        "#Float 32 tensor\n",
        "#some of the most important parameters when creating tensors\n",
        "float_32_tensor = torch.tensor([3.0, 6.0, 9.0], dtype = torch.float32,\n",
        "                               device = None, #what device is your tensor on?\n",
        "                               requires_grad= False) #whether or not to track gradients with this tensors operations\n",
        "\n",
        "float_32_tensor"
      ]
    },
    {
      "cell_type": "code",
      "execution_count": null,
      "metadata": {
        "id": "VOVdRUu1q396"
      },
      "outputs": [],
      "source": [
        "#the dtype deals with precision in mathematics, detail in which the quantity is expressed\n",
        "\n",
        "#float 32 means a number contains 32 bits in computer memory\n",
        "#32 bit is single precision\n",
        "#16 bit is half precision\n",
        "#if we sacrafice some precision we can calculate faster on numbers that take less memory"
      ]
    },
    {
      "cell_type": "code",
      "execution_count": null,
      "metadata": {
        "colab": {
          "base_uri": "https://localhost:8080/"
        },
        "id": "a6ciNy4oQY67",
        "outputId": "a5cc2a4b-c276-446f-d0c4-205b9a73f6bf"
      },
      "outputs": [
        {
          "data": {
            "text/plain": [
              "tensor([3., 6., 9.], dtype=torch.float16)"
            ]
          },
          "execution_count": 38,
          "metadata": {},
          "output_type": "execute_result"
        }
      ],
      "source": [
        "float_16_tensor = float_32_tensor.type(torch.float16)\n",
        "float_16_tensor"
      ]
    },
    {
      "cell_type": "code",
      "execution_count": null,
      "metadata": {
        "colab": {
          "base_uri": "https://localhost:8080/"
        },
        "id": "MNHqZCJxQfvm",
        "outputId": "65c49af0-a734-43bc-8e99-8de5f4feb74a"
      },
      "outputs": [
        {
          "data": {
            "text/plain": [
              "torch.float32"
            ]
          },
          "execution_count": 39,
          "metadata": {},
          "output_type": "execute_result"
        }
      ],
      "source": [
        "float_32_tensor.dtype"
      ]
    },
    {
      "cell_type": "code",
      "execution_count": null,
      "metadata": {
        "colab": {
          "base_uri": "https://localhost:8080/"
        },
        "id": "_FlFF2JKQkUh",
        "outputId": "73194f11-3817-4bdc-c39c-7049429b091c"
      },
      "outputs": [
        {
          "data": {
            "text/plain": [
              "tensor([ 9., 36., 81.])"
            ]
          },
          "execution_count": 40,
          "metadata": {},
          "output_type": "execute_result"
        }
      ],
      "source": [
        "float_16_tensor * float_32_tensor #it works, sometimes if you think something may error it actually results in no error.\n",
        "\n",
        "#some operations will run an error"
      ]
    },
    {
      "cell_type": "code",
      "execution_count": null,
      "metadata": {
        "colab": {
          "base_uri": "https://localhost:8080/"
        },
        "id": "nf1DMQLtQvSq",
        "outputId": "fd0bab76-c2ba-4152-c346-d8605d04d8e3"
      },
      "outputs": [
        {
          "data": {
            "text/plain": [
              "tensor([3, 6, 9], dtype=torch.int32)"
            ]
          },
          "execution_count": 41,
          "metadata": {},
          "output_type": "execute_result"
        }
      ],
      "source": [
        "int_32_tensor = torch.tensor([3, 6, 9], dtype = torch.int32)\n",
        "int_32_tensor"
      ]
    },
    {
      "cell_type": "code",
      "execution_count": null,
      "metadata": {
        "colab": {
          "base_uri": "https://localhost:8080/"
        },
        "id": "L-OeLE4QRJwo",
        "outputId": "ae7ed3b6-fb5a-4fa3-d531-19126cccf33e"
      },
      "outputs": [
        {
          "data": {
            "text/plain": [
              "tensor([ 9., 36., 81.])"
            ]
          },
          "execution_count": 42,
          "metadata": {},
          "output_type": "execute_result"
        }
      ],
      "source": [
        "float_32_tensor * int_32_tensor #still works"
      ]
    },
    {
      "cell_type": "markdown",
      "metadata": {
        "id": "D6VaU9kARmY2"
      },
      "source": [
        "###Getting information from our tensors (tensor attributes)\n",
        "\n",
        "1. check the shape - tensor.shape\n",
        "\n",
        "2. check the data type - tensor.dtype\n",
        "\n",
        "3. check the device - tensor.device"
      ]
    },
    {
      "cell_type": "code",
      "execution_count": null,
      "metadata": {
        "colab": {
          "base_uri": "https://localhost:8080/"
        },
        "id": "KleKeoRIRNeh",
        "outputId": "42fab093-5300-4d68-8162-88108bf2c4fc"
      },
      "outputs": [
        {
          "data": {
            "text/plain": [
              "tensor([[0.2480, 0.3402, 0.6409, 0.1930],\n",
              "        [0.8761, 0.5250, 0.0695, 0.6753],\n",
              "        [0.1749, 0.1685, 0.5069, 0.6597]])"
            ]
          },
          "execution_count": 43,
          "metadata": {},
          "output_type": "execute_result"
        }
      ],
      "source": [
        "#create a tensor\n",
        "\n",
        "some_tensor = torch.rand(3, 4)\n",
        "some_tensor"
      ]
    },
    {
      "cell_type": "code",
      "execution_count": null,
      "metadata": {
        "colab": {
          "base_uri": "https://localhost:8080/"
        },
        "id": "9QGVZhFqR7Ch",
        "outputId": "3b53ed74-27b9-4061-fb2f-9ebf2b9a31e9"
      },
      "outputs": [
        {
          "name": "stdout",
          "output_type": "stream",
          "text": [
            "tensor([[0.2480, 0.3402, 0.6409, 0.1930],\n",
            "        [0.8761, 0.5250, 0.0695, 0.6753],\n",
            "        [0.1749, 0.1685, 0.5069, 0.6597]])\n",
            "\n",
            "Datatype of tensor: torch.float32\n",
            "\n",
            "Shape of tensor: torch.Size([3, 4])\n",
            "\n",
            "Device tensor is on: cpu\n"
          ]
        }
      ],
      "source": [
        "#find out details of some tensor\n",
        "print(some_tensor)\n",
        "print()\n",
        "print(f\"Datatype of tensor: {some_tensor.dtype}\")\n",
        "print()\n",
        "print(f\"Shape of tensor: {some_tensor.shape}\")\n",
        "print()\n",
        "print(f\"Device tensor is on: {some_tensor.device}\")"
      ]
    },
    {
      "cell_type": "code",
      "execution_count": null,
      "metadata": {
        "id": "DnOAdbRkSWGP"
      },
      "outputs": [],
      "source": [
        "own_tensor = torch.rand(size = (4, 4),\n",
        "                        dtype = torch.float16,\n",
        "                        device = torch.device('cuda'))"
      ]
    },
    {
      "cell_type": "code",
      "execution_count": null,
      "metadata": {
        "colab": {
          "base_uri": "https://localhost:8080/"
        },
        "id": "0qWGWXdRSwws",
        "outputId": "7c58003f-092c-4cf4-bc6d-af5c68357c35"
      },
      "outputs": [
        {
          "data": {
            "text/plain": [
              "tensor([[0.9434, 0.9727, 0.7168, 0.9517],\n",
              "        [0.7456, 0.1146, 0.7754, 0.5635],\n",
              "        [0.0654, 0.3408, 0.9224, 0.6064],\n",
              "        [0.1954, 0.5488, 0.4417, 0.4783]], device='cuda:0',\n",
              "       dtype=torch.float16)"
            ]
          },
          "execution_count": 46,
          "metadata": {},
          "output_type": "execute_result"
        }
      ],
      "source": [
        "own_tensor"
      ]
    },
    {
      "cell_type": "markdown",
      "metadata": {
        "id": "S0lHgVM-TF8W"
      },
      "source": [
        "###Manipulating Tensors (tensor operations)\n",
        "\n",
        "tensor operations include:\n",
        "\n",
        "* addition\n",
        "* subtraction\n",
        "* multiplication (element wise)\n",
        "* division\n",
        "* matrix multiplication\n"
      ]
    },
    {
      "cell_type": "code",
      "execution_count": null,
      "metadata": {
        "colab": {
          "base_uri": "https://localhost:8080/"
        },
        "id": "cf_OXr-OS5CH",
        "outputId": "bbbc0659-be44-4b81-e201-e32963174833"
      },
      "outputs": [
        {
          "data": {
            "text/plain": [
              "tensor([11, 12, 13])"
            ]
          },
          "execution_count": 47,
          "metadata": {},
          "output_type": "execute_result"
        }
      ],
      "source": [
        "#create a tensor\n",
        "tensor = torch.tensor([1, 2, 3])\n",
        "tensor + 10"
      ]
    },
    {
      "cell_type": "code",
      "execution_count": null,
      "metadata": {
        "colab": {
          "base_uri": "https://localhost:8080/"
        },
        "id": "-D--EhL-TBbK",
        "outputId": "9b489752-7b48-48af-a120-b7f75620115a"
      },
      "outputs": [
        {
          "data": {
            "text/plain": [
              "tensor([10, 20, 30])"
            ]
          },
          "execution_count": 48,
          "metadata": {},
          "output_type": "execute_result"
        }
      ],
      "source": [
        "#multiply tensor by 10\n",
        "tensor * 10"
      ]
    },
    {
      "cell_type": "code",
      "execution_count": null,
      "metadata": {
        "colab": {
          "base_uri": "https://localhost:8080/"
        },
        "id": "dn3WQ281TsK5",
        "outputId": "e6612e7e-f59f-40b9-a382-10ce1aa65457"
      },
      "outputs": [
        {
          "data": {
            "text/plain": [
              "tensor([1, 2, 3])"
            ]
          },
          "execution_count": 49,
          "metadata": {},
          "output_type": "execute_result"
        }
      ],
      "source": [
        "tensor"
      ]
    },
    {
      "cell_type": "code",
      "execution_count": null,
      "metadata": {
        "colab": {
          "base_uri": "https://localhost:8080/"
        },
        "id": "UNJBrTr8TvC8",
        "outputId": "4d860be7-20a9-441c-ec33-844f0f2a3a2b"
      },
      "outputs": [
        {
          "data": {
            "text/plain": [
              "tensor([-9, -8, -7])"
            ]
          },
          "execution_count": 50,
          "metadata": {},
          "output_type": "execute_result"
        }
      ],
      "source": [
        "#subtract 10\n",
        "tensor - 10"
      ]
    },
    {
      "cell_type": "code",
      "execution_count": null,
      "metadata": {
        "colab": {
          "base_uri": "https://localhost:8080/"
        },
        "id": "aCx-IUP8T54E",
        "outputId": "70fbc180-ea49-4ffd-b081-6bf24e366edd"
      },
      "outputs": [
        {
          "data": {
            "text/plain": [
              "tensor([10, 20, 30])"
            ]
          },
          "execution_count": 51,
          "metadata": {},
          "output_type": "execute_result"
        }
      ],
      "source": [
        "#try out pytorch in-built functions\n",
        "torch.mul(tensor, 10) #same as regular python operator, generally the operators are more undertandable"
      ]
    },
    {
      "cell_type": "code",
      "execution_count": null,
      "metadata": {
        "colab": {
          "base_uri": "https://localhost:8080/"
        },
        "id": "Q7zf2foZUBHC",
        "outputId": "1a51f1b6-41b1-4cc6-ec76-be5977cd00cd"
      },
      "outputs": [
        {
          "data": {
            "text/plain": [
              "tensor([11, 12, 13])"
            ]
          },
          "execution_count": 52,
          "metadata": {},
          "output_type": "execute_result"
        }
      ],
      "source": [
        "torch.add(tensor, 10)"
      ]
    },
    {
      "cell_type": "code",
      "execution_count": null,
      "metadata": {
        "colab": {
          "base_uri": "https://localhost:8080/"
        },
        "id": "HYZi2pOKUJ4L",
        "outputId": "5492591c-cd27-4e0a-e995-388235734c0a"
      },
      "outputs": [
        {
          "data": {
            "text/plain": [
              "tensor([-9, -8, -7])"
            ]
          },
          "execution_count": 53,
          "metadata": {},
          "output_type": "execute_result"
        }
      ],
      "source": [
        "torch.subtract(tensor, 10)"
      ]
    },
    {
      "cell_type": "markdown",
      "metadata": {
        "id": "kb717lDxVbLI"
      },
      "source": [
        "### Matrix Multiplication\n",
        "\n",
        "1. Element wise multiplication\n",
        "2. matrix multiplcation (dot product)\n",
        "\n",
        "There are two main rules that performing matrix multiplication needs to satisfy:\n",
        "\n",
        "1 . The **inner dimensions** must match:\n",
        "* (3, 2) @ (3, 2) wont work\n",
        "* (2, 3) @ (3, 2) will work\n",
        "* (3, 2) @ (2, 3) will work\n",
        "\n",
        "2. The resulting matrix has the shape of the **outer dimensions**:\n",
        "\n",
        "(2,3) @ (3, 2) -> (2, 2)\n",
        "(3, 2) @ (2, 3) -> (3, 3)"
      ]
    },
    {
      "cell_type": "code",
      "execution_count": null,
      "metadata": {
        "colab": {
          "base_uri": "https://localhost:8080/"
        },
        "id": "ON8B6fwtYhzX",
        "outputId": "bbd990f8-f5e1-4ff4-fb29-4f32c6afb594"
      },
      "outputs": [
        {
          "data": {
            "text/plain": [
              "tensor([[2.8787, 1.9943, 2.3935],\n",
              "        [2.3817, 2.1590, 1.6894],\n",
              "        [2.6790, 2.6102, 1.8306]])"
            ]
          },
          "execution_count": 54,
          "metadata": {},
          "output_type": "execute_result"
        }
      ],
      "source": [
        "torch.matmul(torch.rand(3, 10), torch.rand(10, 3)) #one of the most common errors in deep learning is if the inner dimensions dont match"
      ]
    },
    {
      "cell_type": "code",
      "execution_count": null,
      "metadata": {
        "colab": {
          "base_uri": "https://localhost:8080/"
        },
        "id": "fmIgQQ7CUMba",
        "outputId": "b1533939-50d3-4993-fd23-8a66aa926c49"
      },
      "outputs": [
        {
          "name": "stdout",
          "output_type": "stream",
          "text": [
            "tensor([1, 2, 3]) * tensor([1, 2, 3])\n",
            "Equals: tensor([1, 4, 9])\n"
          ]
        }
      ],
      "source": [
        "#element-wise multiplication\n",
        "print(tensor, \"*\", tensor)\n",
        "print(f\"Equals: {tensor * tensor}\")"
      ]
    },
    {
      "cell_type": "code",
      "execution_count": null,
      "metadata": {
        "colab": {
          "base_uri": "https://localhost:8080/"
        },
        "id": "ZjnLcMRnWX3Q",
        "outputId": "04bfd606-17b4-4b3f-e330-8e2d2e91a69a"
      },
      "outputs": [
        {
          "data": {
            "text/plain": [
              "tensor(14)"
            ]
          },
          "execution_count": 56,
          "metadata": {},
          "output_type": "execute_result"
        }
      ],
      "source": [
        "#matrix multiplication\n",
        "torch.matmul(tensor, tensor)"
      ]
    },
    {
      "cell_type": "code",
      "execution_count": null,
      "metadata": {
        "colab": {
          "base_uri": "https://localhost:8080/"
        },
        "id": "kz2wiAywWkhh",
        "outputId": "e760f8e7-c659-4deb-f1a4-c3fc01ba3eda"
      },
      "outputs": [
        {
          "data": {
            "text/plain": [
              "14"
            ]
          },
          "execution_count": 57,
          "metadata": {},
          "output_type": "execute_result"
        }
      ],
      "source": [
        "#matrix multiplication by hand\n",
        "1*1 + 2*2 + 3*3"
      ]
    },
    {
      "cell_type": "code",
      "execution_count": null,
      "metadata": {
        "colab": {
          "base_uri": "https://localhost:8080/"
        },
        "id": "YgsKPlyJW3XL",
        "outputId": "a6d6c20a-a36a-423c-d291-3b02b74c60a5"
      },
      "outputs": [
        {
          "name": "stdout",
          "output_type": "stream",
          "text": [
            "tensor(14)\n",
            "CPU times: user 608 µs, sys: 134 µs, total: 742 µs\n",
            "Wall time: 787 µs\n"
          ]
        }
      ],
      "source": [
        "%%time\n",
        "value = 0\n",
        "for i in range(len(tensor)):\n",
        "  value += tensor[i] * tensor[i]\n",
        "print(value)"
      ]
    },
    {
      "cell_type": "code",
      "execution_count": null,
      "metadata": {
        "colab": {
          "base_uri": "https://localhost:8080/"
        },
        "id": "gpmbcc8gW8tC",
        "outputId": "4b6be397-d904-452b-cf4a-9dd2e4d9dfd8"
      },
      "outputs": [
        {
          "name": "stdout",
          "output_type": "stream",
          "text": [
            "CPU times: user 33 µs, sys: 0 ns, total: 33 µs\n",
            "Wall time: 36.2 µs\n"
          ]
        },
        {
          "data": {
            "text/plain": [
              "tensor(14)"
            ]
          },
          "execution_count": 59,
          "metadata": {},
          "output_type": "execute_result"
        }
      ],
      "source": [
        "%%time\n",
        "torch.matmul(tensor, tensor) #much faster than using the for loop by hand for mathematical operations"
      ]
    },
    {
      "cell_type": "markdown",
      "metadata": {
        "id": "bR5NBRUxX8H_"
      },
      "source": [
        "### One of the most common errors in deep learning is shape errors"
      ]
    },
    {
      "cell_type": "code",
      "execution_count": null,
      "metadata": {
        "colab": {
          "base_uri": "https://localhost:8080/"
        },
        "id": "_jN-hpbbXVr_",
        "outputId": "c3206260-390a-4a89-b401-6a19859004dc"
      },
      "outputs": [
        {
          "data": {
            "text/plain": [
              "tensor([[159, 160, 176],\n",
              "        [177, 179, 196],\n",
              "        [195, 198, 216]])"
            ]
          },
          "execution_count": 60,
          "metadata": {},
          "output_type": "execute_result"
        }
      ],
      "source": [
        "#shapes for matrix multiplication\n",
        "tensor_A = torch.tensor([[7, 10],\n",
        "                        [8, 11],\n",
        "                        [9, 12]])\n",
        "\n",
        "tensor_B = torch.tensor([[7, 10],\n",
        "                        [8, 11],\n",
        "                        [9,12]])\n",
        "\n",
        "torch.matmul(tensor_A, tensor_B.reshape(2, 3))"
      ]
    },
    {
      "cell_type": "code",
      "execution_count": null,
      "metadata": {
        "colab": {
          "base_uri": "https://localhost:8080/"
        },
        "id": "miwr2TA4aVCr",
        "outputId": "9dcfcd0b-6ca7-4006-ddf0-9dbe86b2858c"
      },
      "outputs": [
        {
          "data": {
            "text/plain": [
              "(torch.Size([3, 2]), torch.Size([3, 2]))"
            ]
          },
          "execution_count": 61,
          "metadata": {},
          "output_type": "execute_result"
        }
      ],
      "source": [
        "tensor_A.shape, tensor_B.shape #need to adjust the shape for matrix multiplication"
      ]
    },
    {
      "cell_type": "markdown",
      "metadata": {
        "id": "e7oAxdw7a0K6"
      },
      "source": [
        "To fix our tensor shape issues we can maniipulate the shape using a transpose.\n",
        "\n",
        "A transpose switches the axes or dimensions of a given tensor"
      ]
    },
    {
      "cell_type": "code",
      "execution_count": null,
      "metadata": {
        "colab": {
          "base_uri": "https://localhost:8080/"
        },
        "id": "buJV3f9NatDH",
        "outputId": "4341d3e7-7405-4beb-9313-ffb65010adcc"
      },
      "outputs": [
        {
          "data": {
            "text/plain": [
              "(tensor([[ 7,  8,  9],\n",
              "         [10, 11, 12]]),\n",
              " torch.Size([2, 3]))"
            ]
          },
          "execution_count": 62,
          "metadata": {},
          "output_type": "execute_result"
        }
      ],
      "source": [
        "tensor_B.T, tensor_B.T.shape # tensor_B.T Transposes the shape (like rehape to the inverse)"
      ]
    },
    {
      "cell_type": "code",
      "execution_count": null,
      "metadata": {
        "colab": {
          "base_uri": "https://localhost:8080/"
        },
        "id": "orh_evTxbC49",
        "outputId": "e2e3bf0a-2c9f-4f64-dcb8-6615e1a140c4"
      },
      "outputs": [
        {
          "name": "stdout",
          "output_type": "stream",
          "text": [
            "original shapes: tensor_A = torch.Size([3, 2]), tensor_B = torch.Size([3, 2])\n",
            "New shapes: tensor_A = torch.Size([3, 2]) (same shape as above), tensor_B.T = torch.Size([2, 3])\n",
            "multiplying: torch.Size([3, 2]) @ torch.Size([2, 3]) <- inner dimensions must match\n",
            "output:\n",
            "\n",
            "tensor([[149, 166, 183],\n",
            "        [166, 185, 204],\n",
            "        [183, 204, 225]])\n",
            "\n",
            "Output shape: torch.Size([3, 3])\n"
          ]
        }
      ],
      "source": [
        "#the matrix multiplication operation works when tensor_B is transposed\n",
        "print(f\"original shapes: tensor_A = {tensor_A.shape}, tensor_B = {tensor_B.shape}\")\n",
        "print(f\"New shapes: tensor_A = {tensor_A.shape} (same shape as above), tensor_B.T = {tensor_B.T.shape}\")\n",
        "print(f\"multiplying: {tensor_A.shape} @ {tensor_B.T.shape} <- inner dimensions must match\")\n",
        "print(\"output:\\n\")\n",
        "output = torch.matmul(tensor_A, tensor_B.T)\n",
        "print(output)\n",
        "print(f\"\\nOutput shape: {output.shape}\")\n"
      ]
    },
    {
      "cell_type": "markdown",
      "metadata": {
        "id": "8OBmCLfzONJL"
      },
      "source": [
        "### Finding the min, max, mean, sum, etc (tensor aggregation)\n"
      ]
    },
    {
      "cell_type": "code",
      "execution_count": null,
      "metadata": {
        "colab": {
          "base_uri": "https://localhost:8080/"
        },
        "id": "Q79ybQugbdsp",
        "outputId": "2786acc2-7cb8-4951-8668-49004e4128ab"
      },
      "outputs": [
        {
          "data": {
            "text/plain": [
              "tensor([ 0, 10, 20, 30, 40, 50, 60, 70, 80, 90])"
            ]
          },
          "execution_count": 64,
          "metadata": {},
          "output_type": "execute_result"
        }
      ],
      "source": [
        "#create a tensor\n",
        "x = torch.arange(0, 100, 10)\n",
        "x"
      ]
    },
    {
      "cell_type": "code",
      "execution_count": null,
      "metadata": {
        "colab": {
          "base_uri": "https://localhost:8080/"
        },
        "id": "qXn5yp6OObDE",
        "outputId": "44282788-dd5f-4145-9cc3-c89af650de5a"
      },
      "outputs": [
        {
          "data": {
            "text/plain": [
              "(tensor(90), tensor(90))"
            ]
          },
          "execution_count": 65,
          "metadata": {},
          "output_type": "execute_result"
        }
      ],
      "source": [
        "#find the max\n",
        "torch.max(x), x.max()"
      ]
    },
    {
      "cell_type": "code",
      "execution_count": null,
      "metadata": {
        "colab": {
          "base_uri": "https://localhost:8080/"
        },
        "id": "F9FmJrfjOi-R",
        "outputId": "b541dd94-eb40-4b4e-be95-bae06beeb8ab"
      },
      "outputs": [
        {
          "data": {
            "text/plain": [
              "(tensor(0), tensor(0))"
            ]
          },
          "execution_count": 66,
          "metadata": {},
          "output_type": "execute_result"
        }
      ],
      "source": [
        "torch.min(x), x.min()"
      ]
    },
    {
      "cell_type": "code",
      "execution_count": null,
      "metadata": {
        "colab": {
          "base_uri": "https://localhost:8080/"
        },
        "id": "OPvza9PoOq0m",
        "outputId": "2f64620d-ed96-415d-d972-056c5a8747a0"
      },
      "outputs": [
        {
          "data": {
            "text/plain": [
              "(tensor(45.), tensor(45.))"
            ]
          },
          "execution_count": 67,
          "metadata": {},
          "output_type": "execute_result"
        }
      ],
      "source": [
        "torch.mean(x, dtype = torch.float32), x.type(torch.float32).mean() #doesnt work on data type long need to convert the data type"
      ]
    },
    {
      "cell_type": "code",
      "execution_count": null,
      "metadata": {
        "colab": {
          "base_uri": "https://localhost:8080/"
        },
        "id": "LG25g0faOtLA",
        "outputId": "d8c55d70-f128-4e42-aa93-1d1b33561264"
      },
      "outputs": [
        {
          "data": {
            "text/plain": [
              "(tensor(450), tensor(450))"
            ]
          },
          "execution_count": 68,
          "metadata": {},
          "output_type": "execute_result"
        }
      ],
      "source": [
        "#find the sum\n",
        "torch.sum(x), x.sum() #best to pick a style and stick with that throughout code"
      ]
    },
    {
      "cell_type": "markdown",
      "metadata": {
        "id": "1NwM_y7iPp_B"
      },
      "source": [
        "### Finding the positional min and max"
      ]
    },
    {
      "cell_type": "code",
      "execution_count": null,
      "metadata": {
        "colab": {
          "base_uri": "https://localhost:8080/"
        },
        "id": "dPTy2kSdPMdC",
        "outputId": "18476193-0c62-4b08-8692-57d79ab0547d"
      },
      "outputs": [
        {
          "data": {
            "text/plain": [
              "(tensor(9), tensor(0), tensor(9), tensor(0))"
            ]
          },
          "execution_count": 69,
          "metadata": {},
          "output_type": "execute_result"
        }
      ],
      "source": [
        "#find positional min and max\n",
        "torch.argmax(x.type(torch.float32)), torch.argmin(x), x.argmax(), x.argmin()"
      ]
    },
    {
      "cell_type": "code",
      "execution_count": null,
      "metadata": {
        "colab": {
          "base_uri": "https://localhost:8080/"
        },
        "id": "8EoWeuIvPZ7u",
        "outputId": "e7a959ad-392f-4e17-d288-b753bb3bc43a"
      },
      "outputs": [
        {
          "data": {
            "text/plain": [
              "tensor(0)"
            ]
          },
          "execution_count": 70,
          "metadata": {},
          "output_type": "execute_result"
        }
      ],
      "source": [
        "#argmin find the position in tensor that has the minimum value, returns index position of target tensor where\n",
        "#the min value occurs\n",
        "torch.argmin(x)"
      ]
    },
    {
      "cell_type": "code",
      "execution_count": null,
      "metadata": {
        "colab": {
          "base_uri": "https://localhost:8080/"
        },
        "id": "BUi-EjYRP6ek",
        "outputId": "16f46b24-db5c-4b9a-90ae-1e6659b55707"
      },
      "outputs": [
        {
          "data": {
            "text/plain": [
              "tensor(0)"
            ]
          },
          "execution_count": 71,
          "metadata": {},
          "output_type": "execute_result"
        }
      ],
      "source": [
        "x[0]"
      ]
    },
    {
      "cell_type": "code",
      "execution_count": null,
      "metadata": {
        "colab": {
          "base_uri": "https://localhost:8080/"
        },
        "id": "BQvaMN_ZP8aM",
        "outputId": "d8199f52-f9b0-4a1b-e2a1-0debc5eca769"
      },
      "outputs": [
        {
          "data": {
            "text/plain": [
              "tensor(9)"
            ]
          },
          "execution_count": 72,
          "metadata": {},
          "output_type": "execute_result"
        }
      ],
      "source": [
        "#find the position in tensor that has the maximum value with argmax\n",
        "torch.argmax(x)"
      ]
    },
    {
      "cell_type": "code",
      "execution_count": null,
      "metadata": {
        "colab": {
          "base_uri": "https://localhost:8080/"
        },
        "id": "PXJbLbloQDtc",
        "outputId": "e9911508-5fce-494e-8ea6-9c59ffaff06d"
      },
      "outputs": [
        {
          "data": {
            "text/plain": [
              "tensor(90)"
            ]
          },
          "execution_count": 73,
          "metadata": {},
          "output_type": "execute_result"
        }
      ],
      "source": [
        "x[9]"
      ]
    },
    {
      "cell_type": "markdown",
      "metadata": {
        "id": "-qfAanllQnnU"
      },
      "source": [
        "## Rehshaping, Stacking, Squeezing, and Unsqueezing\n",
        "\n",
        "* Reshaping - reshapes an input tensor to a defined shape\n",
        "* View - Return a view of an input tensor of certain shape but keep the same memory as the original tensor\n",
        "* Combine multiple tensors on top of each other (vstack) or side by side (hstack)\n",
        "* Squeeze - removes all '1' dimensions from a tensor\n",
        "* Unsqueeze - add a '1' dimension to a target tensor\n",
        "* Permute - Return a View of the input with dimensions permuted (swapped) in a certain way\n"
      ]
    },
    {
      "cell_type": "code",
      "execution_count": null,
      "metadata": {
        "colab": {
          "base_uri": "https://localhost:8080/"
        },
        "id": "AANL56_gQI8e",
        "outputId": "1794fba5-5d56-4230-8ab5-088b39e82e82"
      },
      "outputs": [
        {
          "data": {
            "text/plain": [
              "(tensor([1., 2., 3., 4., 5., 6., 7., 8., 9.]), torch.Size([9]))"
            ]
          },
          "execution_count": 74,
          "metadata": {},
          "output_type": "execute_result"
        }
      ],
      "source": [
        "#lets create a tensor\n",
        "import torch\n",
        "x= torch.arange(1., 10.)\n",
        "x, x.shape"
      ]
    },
    {
      "cell_type": "code",
      "execution_count": null,
      "metadata": {
        "colab": {
          "base_uri": "https://localhost:8080/"
        },
        "id": "25GnvZxLR3I-",
        "outputId": "c76997c5-58c9-44a7-86ca-7fec012fe0f3"
      },
      "outputs": [
        {
          "data": {
            "text/plain": [
              "(tensor([[1., 2., 3., 4., 5., 6., 7., 8., 9.]]), torch.Size([1, 9]))"
            ]
          },
          "execution_count": 75,
          "metadata": {},
          "output_type": "execute_result"
        }
      ],
      "source": [
        "#Add an extra dimension\n",
        "x_reshaped = x.reshape(1, 9)\n",
        "x_reshaped, x_reshaped.shape"
      ]
    },
    {
      "cell_type": "code",
      "execution_count": null,
      "metadata": {
        "colab": {
          "base_uri": "https://localhost:8080/"
        },
        "id": "9JDW-h6ESBul",
        "outputId": "64678510-22f6-474b-9ad7-546a88696041"
      },
      "outputs": [
        {
          "data": {
            "text/plain": [
              "(tensor([[1., 2., 3., 4., 5., 6., 7., 8., 9.]]), torch.Size([1, 9]))"
            ]
          },
          "execution_count": 76,
          "metadata": {},
          "output_type": "execute_result"
        }
      ],
      "source": [
        "#change the view\n",
        "z =  x.view(1, 9)\n",
        "z, z.shape"
      ]
    },
    {
      "cell_type": "code",
      "execution_count": null,
      "metadata": {
        "colab": {
          "base_uri": "https://localhost:8080/"
        },
        "id": "W5iAIffjSveJ",
        "outputId": "c4b76fd5-342e-4014-bfa8-9a89f38cfe65"
      },
      "outputs": [
        {
          "data": {
            "text/plain": [
              "(tensor([[5., 2., 3., 4., 5., 6., 7., 8., 9.]]),\n",
              " tensor([5., 2., 3., 4., 5., 6., 7., 8., 9.]))"
            ]
          },
          "execution_count": 77,
          "metadata": {},
          "output_type": "execute_result"
        }
      ],
      "source": [
        "#chaning z changes x, because a view of a tensor shares the same memory as the original input\n",
        "z[:, 0] = 5\n",
        "z, x"
      ]
    },
    {
      "cell_type": "code",
      "execution_count": null,
      "metadata": {
        "colab": {
          "base_uri": "https://localhost:8080/"
        },
        "id": "d5RjVYvuS71P",
        "outputId": "05f71567-bf0c-4494-a928-20f83976ac8a"
      },
      "outputs": [
        {
          "data": {
            "text/plain": [
              "tensor([[5., 5., 5., 5.],\n",
              "        [2., 2., 2., 2.],\n",
              "        [3., 3., 3., 3.],\n",
              "        [4., 4., 4., 4.],\n",
              "        [5., 5., 5., 5.],\n",
              "        [6., 6., 6., 6.],\n",
              "        [7., 7., 7., 7.],\n",
              "        [8., 8., 8., 8.],\n",
              "        [9., 9., 9., 9.]])"
            ]
          },
          "execution_count": 78,
          "metadata": {},
          "output_type": "execute_result"
        }
      ],
      "source": [
        "#stack tensors on top of each other\n",
        "x_stacked  = torch.stack([x, x, x, x], dim = 1)\n",
        "x_stacked"
      ]
    },
    {
      "cell_type": "code",
      "execution_count": null,
      "metadata": {
        "colab": {
          "base_uri": "https://localhost:8080/"
        },
        "id": "pdk9Uv2rTQ4j",
        "outputId": "a9b6746a-4e3e-433e-f01c-193a92cd77a3"
      },
      "outputs": [
        {
          "data": {
            "text/plain": [
              "tensor([[5., 2., 3., 4., 5., 6., 7., 8., 9.],\n",
              "        [5., 2., 3., 4., 5., 6., 7., 8., 9.]])"
            ]
          },
          "execution_count": 79,
          "metadata": {},
          "output_type": "execute_result"
        }
      ],
      "source": [
        "v_stack = torch.stack([x, x]) #another function to stack tensors instead of listing the dimension\n",
        "v_stack"
      ]
    },
    {
      "cell_type": "code",
      "execution_count": null,
      "metadata": {
        "colab": {
          "base_uri": "https://localhost:8080/"
        },
        "id": "PJz1C53XVDwH",
        "outputId": "d18694a2-2ba1-4f25-8689-94fed6ca3ed5"
      },
      "outputs": [
        {
          "name": "stdout",
          "output_type": "stream",
          "text": [
            "Previous tensor: tensor([[5., 2., 3., 4., 5., 6., 7., 8., 9.]])\n",
            "previous shape: torch.Size([1, 9])\n",
            "\n",
            "New tensor: tensor([5., 2., 3., 4., 5., 6., 7., 8., 9.])\n",
            "New shape: torch.Size([9])\n"
          ]
        }
      ],
      "source": [
        "#torch.squeeze() removes all single dimensions from a target tensor\n",
        "print(f\"Previous tensor: {x_reshaped}\")\n",
        "print(f\"previous shape: {x_reshaped.shape}\")\n",
        "\n",
        "#remove extra dimensions from x_reshaped\n",
        "x_squeezed = x_reshaped.squeeze()\n",
        "print(f\"\\nNew tensor: {x_squeezed}\")\n",
        "print(f\"New shape: {x_squeezed.shape}\")"
      ]
    },
    {
      "cell_type": "code",
      "execution_count": null,
      "metadata": {
        "colab": {
          "base_uri": "https://localhost:8080/"
        },
        "id": "nqdCxcZDVSqJ",
        "outputId": "1b938de6-ae0c-4cfa-88d9-789ccec94e04"
      },
      "outputs": [
        {
          "name": "stdout",
          "output_type": "stream",
          "text": [
            "previous target:tensor([5., 2., 3., 4., 5., 6., 7., 8., 9.])\n",
            "previous Shape: torch.Size([9])\n",
            "\n",
            "New tensor:tensor([[5., 2., 3., 4., 5., 6., 7., 8., 9.]])\n",
            "New shape: torch.Size([1, 9])\n"
          ]
        }
      ],
      "source": [
        "# torch.unsqueeze() - adds a single dimension to a target tensor at a specific dim (dimension)\n",
        "print(f\"previous target:{x_squeezed}\")\n",
        "print(f\"previous Shape: {x_squeezed.shape}\")\n",
        "\n",
        "#add an extra dimension with unsqueeze\n",
        "x_unsqueezed = x_squeezed.unsqueeze(dim = 0)\n",
        "print(f\"\\nNew tensor:{x_unsqueezed}\")\n",
        "print(f\"New shape: {x_unsqueezed.shape}\")"
      ]
    },
    {
      "cell_type": "code",
      "execution_count": null,
      "metadata": {
        "colab": {
          "base_uri": "https://localhost:8080/"
        },
        "id": "VEfSq3DVV85K",
        "outputId": "80f53412-6c98-42a5-99ac-20315ed763e5"
      },
      "outputs": [
        {
          "name": "stdout",
          "output_type": "stream",
          "text": [
            "Previous shape: torch.Size([224, 224, 3])\n",
            "New shape: torch.Size([3, 224, 224])\n"
          ]
        }
      ],
      "source": [
        "#torch.permute , returns a view of the original input tensor with its dimensions permuted (rearanged)\n",
        "x_original = torch.rand(size = (224, 224, 3)) # [height, width, color_channels]\n",
        "\n",
        "#permute the original tensor to rearrange the axis (or dim) order\n",
        "x_permute = x_original.permute(2, 0, 1) #shifts axis 0 -> 1, 1 -> 2, 2 ->0\n",
        "\n",
        "print(f\"Previous shape: {x_original.shape}\")\n",
        "print(f\"New shape: {x_permute.shape}\") # [color_channels, height, width]"
      ]
    },
    {
      "cell_type": "code",
      "execution_count": null,
      "metadata": {
        "id": "y60ahwr7YUT8"
      },
      "outputs": [],
      "source": [
        "#change a value in x_original and see if that same value is changed in x_permute\n",
        "x_original[0, 0, 0] = 1 #changing the value here updates it in the permuted tensor because the permute function creates a view"
      ]
    },
    {
      "cell_type": "code",
      "execution_count": null,
      "metadata": {
        "colab": {
          "base_uri": "https://localhost:8080/"
        },
        "id": "0ch5Bn3FYihi",
        "outputId": "22106634-f1b9-4246-9f00-b7c72f699382"
      },
      "outputs": [
        {
          "data": {
            "text/plain": [
              "tensor(1.)"
            ]
          },
          "execution_count": 84,
          "metadata": {},
          "output_type": "execute_result"
        }
      ],
      "source": [
        "x_permute[0, 0, 0]"
      ]
    },
    {
      "cell_type": "markdown",
      "metadata": {
        "id": "uSoru0TnZHaL"
      },
      "source": [
        "##Indexing (selecting data from tensors)\n",
        "\n",
        "indexing with PyTorch is similar to indexing with NumPy\n"
      ]
    },
    {
      "cell_type": "code",
      "execution_count": null,
      "metadata": {
        "colab": {
          "base_uri": "https://localhost:8080/"
        },
        "id": "URoVKNGZZPMb",
        "outputId": "26340e9a-caab-4ea6-96ca-79ece00c6c90"
      },
      "outputs": [
        {
          "data": {
            "text/plain": [
              "(tensor([[[1, 2, 3],\n",
              "          [4, 5, 6],\n",
              "          [7, 8, 9]]]),\n",
              " torch.Size([1, 3, 3]))"
            ]
          },
          "execution_count": 85,
          "metadata": {},
          "output_type": "execute_result"
        }
      ],
      "source": [
        "#create a tensor\n",
        "import torch\n",
        "x = torch.arange(1, 10).reshape(1, 3, 3)\n",
        "x, x.shape"
      ]
    },
    {
      "cell_type": "code",
      "execution_count": null,
      "metadata": {
        "colab": {
          "base_uri": "https://localhost:8080/"
        },
        "id": "xLh7O30zYqz8",
        "outputId": "0e6e51d8-0c77-40d3-e6e0-b4aae8c5fc71"
      },
      "outputs": [
        {
          "data": {
            "text/plain": [
              "tensor([[1, 2, 3],\n",
              "        [4, 5, 6],\n",
              "        [7, 8, 9]])"
            ]
          },
          "execution_count": 86,
          "metadata": {},
          "output_type": "execute_result"
        }
      ],
      "source": [
        "#lets index on our new tensor\n",
        "x[0]"
      ]
    },
    {
      "cell_type": "code",
      "execution_count": null,
      "metadata": {
        "colab": {
          "base_uri": "https://localhost:8080/"
        },
        "id": "NNd_IwT8ZgXM",
        "outputId": "bc5d3287-f4bf-4f8c-929c-7ebe3fc9ff04"
      },
      "outputs": [
        {
          "data": {
            "text/plain": [
              "(tensor([1, 2, 3]), tensor([1, 2, 3]))"
            ]
          },
          "execution_count": 87,
          "metadata": {},
          "output_type": "execute_result"
        }
      ],
      "source": [
        "#lets index on the middle bracket (dim = 1)\n",
        "x[0, 0], x[0][0]"
      ]
    },
    {
      "cell_type": "code",
      "execution_count": null,
      "metadata": {
        "colab": {
          "base_uri": "https://localhost:8080/"
        },
        "id": "ByRUeYFKZr00",
        "outputId": "0494d802-b16d-4b62-8049-4cb6c7c496f7"
      },
      "outputs": [
        {
          "data": {
            "text/plain": [
              "tensor(9)"
            ]
          },
          "execution_count": 88,
          "metadata": {},
          "output_type": "execute_result"
        }
      ],
      "source": [
        "#lets index on the most inner bracket (last dimension)\n",
        "x[0][2][2] #gives us the 0th index and the 0th element"
      ]
    },
    {
      "cell_type": "code",
      "execution_count": null,
      "metadata": {
        "colab": {
          "base_uri": "https://localhost:8080/"
        },
        "id": "p_0e6vITZzMc",
        "outputId": "9fbc658e-9362-4931-be17-d92506a6c16c"
      },
      "outputs": [
        {
          "data": {
            "text/plain": [
              "tensor([[1, 2, 3]])"
            ]
          },
          "execution_count": 89,
          "metadata": {},
          "output_type": "execute_result"
        }
      ],
      "source": [
        "#you can also use \":\" to select all of a target dimension\n",
        "x[:, 0]"
      ]
    },
    {
      "cell_type": "code",
      "execution_count": null,
      "metadata": {
        "colab": {
          "base_uri": "https://localhost:8080/"
        },
        "id": "ry65FSR_aTv3",
        "outputId": "9678b582-9140-4d56-de70-98eb2538ce24"
      },
      "outputs": [
        {
          "data": {
            "text/plain": [
              "tensor([[2, 5, 8]])"
            ]
          },
          "execution_count": 90,
          "metadata": {},
          "output_type": "execute_result"
        }
      ],
      "source": [
        "#get all values of 0th and 1st dimensions but only index 1 of the second dimension\n",
        "x[:, :, 1]"
      ]
    },
    {
      "cell_type": "code",
      "execution_count": null,
      "metadata": {
        "colab": {
          "base_uri": "https://localhost:8080/"
        },
        "id": "Oq5tBvONacTA",
        "outputId": "e57c61d9-862b-4a5c-be5e-d8676a532c5b"
      },
      "outputs": [
        {
          "data": {
            "text/plain": [
              "tensor([5])"
            ]
          },
          "execution_count": 91,
          "metadata": {},
          "output_type": "execute_result"
        }
      ],
      "source": [
        "#get all values of the 0 dimension but only the 1 index value of the 1st and 2nd dimension\n",
        "x[:, 1, 1]"
      ]
    },
    {
      "cell_type": "code",
      "execution_count": null,
      "metadata": {
        "colab": {
          "base_uri": "https://localhost:8080/"
        },
        "id": "3mPe8mJ5apEo",
        "outputId": "63f0f3f2-6259-4f36-9bcd-157251c0aac3"
      },
      "outputs": [
        {
          "data": {
            "text/plain": [
              "tensor([1, 2, 3])"
            ]
          },
          "execution_count": 92,
          "metadata": {},
          "output_type": "execute_result"
        }
      ],
      "source": [
        "#get index 0 of 0th and 1st dimension and all values of 2nd dimension\n",
        "x[0, 0, :]"
      ]
    },
    {
      "cell_type": "code",
      "execution_count": null,
      "metadata": {
        "colab": {
          "base_uri": "https://localhost:8080/"
        },
        "id": "tkL80H4da0Ax",
        "outputId": "f3225172-2875-4343-c561-d4af1f14d595"
      },
      "outputs": [
        {
          "name": "stdout",
          "output_type": "stream",
          "text": [
            "tensor(9)\n",
            "tensor([3, 6, 9])\n"
          ]
        }
      ],
      "source": [
        "#index on x to return 9\n",
        "print(x[0, 2, 2])\n",
        "\n",
        "#index on x to return 3, 6, 9\n",
        "print(x[0, :, 2])"
      ]
    },
    {
      "cell_type": "code",
      "execution_count": null,
      "metadata": {
        "id": "zX0PFJSkbG1u"
      },
      "outputs": [],
      "source": []
    },
    {
      "cell_type": "markdown",
      "metadata": {
        "id": "JFF5ObNLbfs5"
      },
      "source": [
        "## PyTorch tensors and NumPy\n",
        "\n",
        "NumPy is a popular scientific Python numerical computing library.\n",
        "\n",
        "And because of this, PyTorch has functionality to interact with it.\n",
        "\n",
        "* Data in NumPy, want in PyTorch tensor -> 'torch.from_numpy(ndarray)'\n",
        "* PyTorch tensor -> NumPy -> torch.tensor.numpy()"
      ]
    },
    {
      "cell_type": "code",
      "execution_count": null,
      "metadata": {
        "colab": {
          "base_uri": "https://localhost:8080/"
        },
        "id": "e0-U0SDfb67T",
        "outputId": "1977cd53-a3de-4d70-9a94-564c4ef4d6b4"
      },
      "outputs": [
        {
          "data": {
            "text/plain": [
              "(array([1., 2., 3., 4., 5., 6., 7.]), tensor([1., 2., 3., 4., 5., 6., 7.]))"
            ]
          },
          "execution_count": 94,
          "metadata": {},
          "output_type": "execute_result"
        }
      ],
      "source": [
        "#NumPy array to tensor\n",
        "import torch\n",
        "import numpy as np\n",
        "\n",
        "array = np.arange(1.0, 8.0)\n",
        "tensor = torch.from_numpy(array).type(torch.float32) #warning: when converting from numpy to pytorch, pytorch reflects numpys default datatype of float64 unless specified otherwise\n",
        "array, tensor"
      ]
    },
    {
      "cell_type": "code",
      "execution_count": null,
      "metadata": {
        "colab": {
          "base_uri": "https://localhost:8080/"
        },
        "id": "hMuDs-eZcI-a",
        "outputId": "ea0e287c-4590-42f2-a84f-108008520929"
      },
      "outputs": [
        {
          "data": {
            "text/plain": [
              "torch.float32"
            ]
          },
          "execution_count": 95,
          "metadata": {},
          "output_type": "execute_result"
        }
      ],
      "source": [
        "torch.arange(1.0, 8.0).dtype"
      ]
    },
    {
      "cell_type": "code",
      "execution_count": null,
      "metadata": {
        "colab": {
          "base_uri": "https://localhost:8080/"
        },
        "id": "Kc6Q0XA_cPMf",
        "outputId": "dba7169d-3846-4d34-dba1-0440b0ef0d5e"
      },
      "outputs": [
        {
          "data": {
            "text/plain": [
              "(array([2., 3., 4., 5., 6., 7., 8.]), tensor([1., 2., 3., 4., 5., 6., 7.]))"
            ]
          },
          "execution_count": 96,
          "metadata": {},
          "output_type": "execute_result"
        }
      ],
      "source": [
        "#change the value of array, what will this do to tensor?\n",
        "array = array + 1\n",
        "array, tensor #the new tensor doesnt change if you change the original array"
      ]
    },
    {
      "cell_type": "code",
      "execution_count": null,
      "metadata": {
        "colab": {
          "base_uri": "https://localhost:8080/"
        },
        "id": "TNVGlMvzcnB5",
        "outputId": "1bfd2071-494f-467b-9e1a-3eb9e448b5e7"
      },
      "outputs": [
        {
          "data": {
            "text/plain": [
              "(tensor([1., 1., 1., 1., 1., 1., 1.]),\n",
              " array([1., 1., 1., 1., 1., 1., 1.], dtype=float32))"
            ]
          },
          "execution_count": 97,
          "metadata": {},
          "output_type": "execute_result"
        }
      ],
      "source": [
        "#tensor to numpy array\n",
        "tensor = torch.ones(7)\n",
        "numpy_tensor = tensor.numpy()\n",
        "tensor, numpy_tensor #going between pytorch and numpy carries the dtype from where it was created"
      ]
    },
    {
      "cell_type": "code",
      "execution_count": null,
      "metadata": {
        "colab": {
          "base_uri": "https://localhost:8080/"
        },
        "id": "LKA0S5Z9dBsS",
        "outputId": "6f5a63cc-19ff-4671-bd75-90760bc7750e"
      },
      "outputs": [
        {
          "data": {
            "text/plain": [
              "(tensor([2., 2., 2., 2., 2., 2., 2.]),\n",
              " array([1., 1., 1., 1., 1., 1., 1.], dtype=float32))"
            ]
          },
          "execution_count": 98,
          "metadata": {},
          "output_type": "execute_result"
        }
      ],
      "source": [
        "#change the tensor, what happens to numpy tensor?\n",
        "tensor = tensor + 1\n",
        "tensor, numpy_tensor #does noto share the same memory"
      ]
    },
    {
      "cell_type": "markdown",
      "metadata": {
        "id": "8BIuAptediIQ"
      },
      "source": [
        "## Reproducabiltiy (trying to take the random out of random)\n",
        "\n",
        "In short how a neural network learns:\n",
        "'start with random numbers -> tensor operations -> update random numbers to try and make them better representations of the data -> again -> again -> again\n",
        "\n",
        "to reduce the randomness in neural networks and pytorch comes the concept of a **random seed**\n",
        "\n",
        "essentially what the random seed does is flavor the randomness."
      ]
    },
    {
      "cell_type": "code",
      "execution_count": 1,
      "metadata": {
        "colab": {
          "base_uri": "https://localhost:8080/"
        },
        "id": "Gv_b5IVLdQV6",
        "outputId": "5f0bc1f0-5b27-4672-a4e5-fdfd6a98641c"
      },
      "outputs": [
        {
          "output_type": "stream",
          "name": "stdout",
          "text": [
            "tensor([[0.5617, 0.2935, 0.1386, 0.1573],\n",
            "        [0.4978, 0.6539, 0.6828, 0.9548],\n",
            "        [0.5362, 0.0363, 0.6205, 0.5972]])\n",
            "tensor([[0.9810, 0.5440, 0.8840, 0.6542],\n",
            "        [0.6898, 0.6882, 0.2512, 0.8835],\n",
            "        [0.6171, 0.7463, 0.2449, 0.9826]])\n",
            "tensor([[False, False, False, False],\n",
            "        [False, False, False, False],\n",
            "        [False, False, False, False]])\n"
          ]
        }
      ],
      "source": [
        "import torch\n",
        "\n",
        "#create two random tensors\n",
        "random_tensor_A = torch.rand(3, 4)\n",
        "random_tensor_B = torch.rand(3, 4)\n",
        "\n",
        "print(random_tensor_A)\n",
        "print(random_tensor_B)\n",
        "print(random_tensor_A == random_tensor_B)"
      ]
    },
    {
      "cell_type": "code",
      "execution_count": 2,
      "metadata": {
        "colab": {
          "base_uri": "https://localhost:8080/"
        },
        "id": "OfzswqJ_eSph",
        "outputId": "e7dccf21-3b48-4b87-a538-4499df555dd3"
      },
      "outputs": [
        {
          "output_type": "stream",
          "name": "stdout",
          "text": [
            "tensor([[0.8823, 0.9150, 0.3829, 0.9593],\n",
            "        [0.3904, 0.6009, 0.2566, 0.7936],\n",
            "        [0.9408, 0.1332, 0.9346, 0.5936]])\n",
            "tensor([[0.8823, 0.9150, 0.3829, 0.9593],\n",
            "        [0.3904, 0.6009, 0.2566, 0.7936],\n",
            "        [0.9408, 0.1332, 0.9346, 0.5936]])\n",
            "tensor([[True, True, True, True],\n",
            "        [True, True, True, True],\n",
            "        [True, True, True, True]])\n"
          ]
        }
      ],
      "source": [
        "# Let's make some random but reproducible tensors\n",
        "import torch\n",
        "\n",
        "#set the random seed\n",
        "RANDOM_SEED = 42 #different flavors of randomness\n",
        "torch.manual_seed(RANDOM_SEED)\n",
        "random_tensor_C = torch.rand(3, 4)\n",
        "\n",
        "torch.manual_seed(RANDOM_SEED) #need to\n",
        "random_tensor_D = torch.rand(3, 4)\n",
        "\n",
        "print(random_tensor_C)\n",
        "print(random_tensor_D)\n",
        "print(random_tensor_C == random_tensor_D)"
      ]
    },
    {
      "cell_type": "markdown",
      "metadata": {
        "id": "PTHmlElAmNKy"
      },
      "source": [
        "## Running tensors and PyTorch onjects on the GPUs (and making faster computations)\n",
        "\n",
        "* GPUs = faster computation on numbers, thanks to CUDA + NVIDIA hardware + PyTorch working behind the scenes to make everything work."
      ]
    },
    {
      "cell_type": "markdown",
      "metadata": {
        "id": "rCIt1yuumuHG"
      },
      "source": [
        "### 1. Getting a GPU\n",
        "\n",
        "1. Easiest: Using google colab for a free GPU (options to upgrade as well)\n",
        "\n",
        "2. Use your own GPU - takes a little bit of set up and requires the investment of purchasing a GPU, lots of options\n",
        "\n",
        "3. Use cloud computing - GCP, AWS, Azure, these services allow you to rent computers on the cloud and access them\n",
        "\n",
        "For 2, 3 PyTorch + GPU drivers (CUDA) takes a little bit of setting up. To do this, refrer to PyTorch set up documentation"
      ]
    },
    {
      "cell_type": "code",
      "execution_count": 3,
      "metadata": {
        "colab": {
          "base_uri": "https://localhost:8080/"
        },
        "id": "KrJ2Fp44k1W2",
        "outputId": "1c93b23b-6e5b-434a-e03b-93c66af9b27e"
      },
      "outputs": [
        {
          "output_type": "stream",
          "name": "stdout",
          "text": [
            "Sun May 11 19:54:36 2025       \n",
            "+-----------------------------------------------------------------------------------------+\n",
            "| NVIDIA-SMI 550.54.15              Driver Version: 550.54.15      CUDA Version: 12.4     |\n",
            "|-----------------------------------------+------------------------+----------------------+\n",
            "| GPU  Name                 Persistence-M | Bus-Id          Disp.A | Volatile Uncorr. ECC |\n",
            "| Fan  Temp   Perf          Pwr:Usage/Cap |           Memory-Usage | GPU-Util  Compute M. |\n",
            "|                                         |                        |               MIG M. |\n",
            "|=========================================+========================+======================|\n",
            "|   0  Tesla T4                       Off |   00000000:00:04.0 Off |                    0 |\n",
            "| N/A   55C    P8              9W /   70W |       0MiB /  15360MiB |      0%      Default |\n",
            "|                                         |                        |                  N/A |\n",
            "+-----------------------------------------+------------------------+----------------------+\n",
            "                                                                                         \n",
            "+-----------------------------------------------------------------------------------------+\n",
            "| Processes:                                                                              |\n",
            "|  GPU   GI   CI        PID   Type   Process name                              GPU Memory |\n",
            "|        ID   ID                                                               Usage      |\n",
            "|=========================================================================================|\n",
            "|  No running processes found                                                             |\n",
            "+-----------------------------------------------------------------------------------------+\n"
          ]
        }
      ],
      "source": [
        "!nvidia-smi"
      ]
    },
    {
      "cell_type": "markdown",
      "source": [
        "### 2. Check for GPU access with PyTorch\n",
        "\n"
      ],
      "metadata": {
        "id": "k7VeGCq96gSn"
      }
    },
    {
      "cell_type": "code",
      "source": [
        "#check for GPU access with PyTorch\n",
        "import torch\n",
        "torch.cuda.is_available()"
      ],
      "metadata": {
        "colab": {
          "base_uri": "https://localhost:8080/"
        },
        "id": "i2lC2XrF6eJR",
        "outputId": "96b46edf-36e4-4f97-f85c-004292a5071a"
      },
      "execution_count": 4,
      "outputs": [
        {
          "output_type": "execute_result",
          "data": {
            "text/plain": [
              "True"
            ]
          },
          "metadata": {},
          "execution_count": 4
        }
      ]
    },
    {
      "cell_type": "markdown",
      "source": [
        "for PyTorch since its capable of running compute on the cpu or the gpu, it's best practice to setup device agnostic code"
      ],
      "metadata": {
        "id": "xAIBK5Xs7cAE"
      }
    },
    {
      "cell_type": "code",
      "source": [
        "#setup device agnositc code\n",
        "device = \"cuda\" if torch.cuda.is_available() else \"cpu\"\n",
        "device"
      ],
      "metadata": {
        "colab": {
          "base_uri": "https://localhost:8080/",
          "height": 35
        },
        "id": "JNdjh5W860gQ",
        "outputId": "0c16ee3b-68d6-4b87-bc73-76e20a841f92"
      },
      "execution_count": 5,
      "outputs": [
        {
          "output_type": "execute_result",
          "data": {
            "text/plain": [
              "'cuda'"
            ],
            "application/vnd.google.colaboratory.intrinsic+json": {
              "type": "string"
            }
          },
          "metadata": {},
          "execution_count": 5
        }
      ]
    },
    {
      "cell_type": "code",
      "source": [
        "# count the number of devices\n",
        "torch.cuda.device_count()"
      ],
      "metadata": {
        "colab": {
          "base_uri": "https://localhost:8080/"
        },
        "id": "4aAlDg-57FBF",
        "outputId": "fe4ce36f-9a99-4c6a-f820-d17ba49b2e55"
      },
      "execution_count": 6,
      "outputs": [
        {
          "output_type": "execute_result",
          "data": {
            "text/plain": [
              "1"
            ]
          },
          "metadata": {},
          "execution_count": 6
        }
      ]
    },
    {
      "cell_type": "markdown",
      "source": [
        "## Putting tensors and models on the GPU\n",
        "\n",
        "The reason we want our tensors and models on the GPU is using a GPU results in faster computations.\n",
        "\n",
        "We can discover patterns in our data faster and do more experiments"
      ],
      "metadata": {
        "id": "MqTSYgBO7x2g"
      }
    },
    {
      "cell_type": "code",
      "source": [
        "#create a tensor (default on the CPU)\n",
        "tensor = torch.tensor([1, 2, 3], device = \"cpu\")\n",
        "\n",
        "#Tensor not on GPU\n",
        "print(tensor, tensor.device)"
      ],
      "metadata": {
        "colab": {
          "base_uri": "https://localhost:8080/"
        },
        "id": "cjNG8Ltg7OaC",
        "outputId": "2c04b886-c4a4-4aed-ff8c-beeae94a3ae1"
      },
      "execution_count": 7,
      "outputs": [
        {
          "output_type": "stream",
          "name": "stdout",
          "text": [
            "tensor([1, 2, 3]) cpu\n"
          ]
        }
      ]
    },
    {
      "cell_type": "code",
      "source": [
        "# Move tensor to GPU (if available)\n",
        "\n",
        "#to method moves tensors but could also move models across devices\n",
        "tensor_on_gpu = tensor.to(device)\n",
        "tensor_on_gpu # lastly is the index of the gpu that its stored on"
      ],
      "metadata": {
        "colab": {
          "base_uri": "https://localhost:8080/"
        },
        "id": "d-1OqypS8OAB",
        "outputId": "3325edb4-3f80-45b3-9db4-77ca51692fb6"
      },
      "execution_count": 8,
      "outputs": [
        {
          "output_type": "execute_result",
          "data": {
            "text/plain": [
              "tensor([1, 2, 3], device='cuda:0')"
            ]
          },
          "metadata": {},
          "execution_count": 8
        }
      ]
    },
    {
      "cell_type": "markdown",
      "source": [
        "### 4. Moving tensors back to the CPU\n"
      ],
      "metadata": {
        "id": "RgrkRyXp8pu0"
      }
    },
    {
      "cell_type": "code",
      "source": [
        "# if tensor is on GPU can't transform it to NumPy\n",
        "tensor_on_gpu.numpy()"
      ],
      "metadata": {
        "colab": {
          "base_uri": "https://localhost:8080/",
          "height": 176
        },
        "id": "Dru43ykI8Y8g",
        "outputId": "08627057-2391-40ad-aebc-ab29303b5cd6"
      },
      "execution_count": 9,
      "outputs": [
        {
          "output_type": "error",
          "ename": "TypeError",
          "evalue": "can't convert cuda:0 device type tensor to numpy. Use Tensor.cpu() to copy the tensor to host memory first.",
          "traceback": [
            "\u001b[0;31m---------------------------------------------------------------------------\u001b[0m",
            "\u001b[0;31mTypeError\u001b[0m                                 Traceback (most recent call last)",
            "\u001b[0;32m<ipython-input-9-560f6949600e>\u001b[0m in \u001b[0;36m<cell line: 0>\u001b[0;34m()\u001b[0m\n\u001b[1;32m      1\u001b[0m \u001b[0;31m# if tensor is on GPU can't transform it to NumPy\u001b[0m\u001b[0;34m\u001b[0m\u001b[0;34m\u001b[0m\u001b[0m\n\u001b[0;32m----> 2\u001b[0;31m \u001b[0mtensor_on_gpu\u001b[0m\u001b[0;34m.\u001b[0m\u001b[0mnumpy\u001b[0m\u001b[0;34m(\u001b[0m\u001b[0;34m)\u001b[0m\u001b[0;34m\u001b[0m\u001b[0;34m\u001b[0m\u001b[0m\n\u001b[0m",
            "\u001b[0;31mTypeError\u001b[0m: can't convert cuda:0 device type tensor to numpy. Use Tensor.cpu() to copy the tensor to host memory first."
          ]
        }
      ]
    },
    {
      "cell_type": "code",
      "source": [
        "#to fix the gpu tensor with numpy issue, we can first set it to the cpu\n",
        "tensor_back_on_cpu = tensor_on_gpu.cpu().numpy()\n",
        "tensor_back_on_cpu, tensor_back_on_cpu.device"
      ],
      "metadata": {
        "colab": {
          "base_uri": "https://localhost:8080/"
        },
        "id": "Ebe_SZiz8zWU",
        "outputId": "b1e3f2cf-8c34-431a-b3cb-3c69ec58c105"
      },
      "execution_count": 11,
      "outputs": [
        {
          "output_type": "execute_result",
          "data": {
            "text/plain": [
              "(array([1, 2, 3]), 'cpu')"
            ]
          },
          "metadata": {},
          "execution_count": 11
        }
      ]
    },
    {
      "cell_type": "code",
      "source": [
        "tensor_on_gpu"
      ],
      "metadata": {
        "colab": {
          "base_uri": "https://localhost:8080/"
        },
        "id": "xKQNgc329E2b",
        "outputId": "9a9720af-1188-418c-cd35-327d4591f2f5"
      },
      "execution_count": 12,
      "outputs": [
        {
          "output_type": "execute_result",
          "data": {
            "text/plain": [
              "tensor([1, 2, 3], device='cuda:0')"
            ]
          },
          "metadata": {},
          "execution_count": 12
        }
      ]
    },
    {
      "cell_type": "markdown",
      "source": [
        "## Exercises\n"
      ],
      "metadata": {
        "id": "Sx8-LgPd-cTF"
      }
    },
    {
      "cell_type": "code",
      "source": [
        "#create a random tensor with shape (7,7)\n",
        "import torch\n",
        "random_tensor = torch.rand(7, 7)\n",
        "random_tensor"
      ],
      "metadata": {
        "colab": {
          "base_uri": "https://localhost:8080/"
        },
        "id": "M28CNg-3-9D-",
        "outputId": "41704673-21dd-4902-ae64-8068b911702b"
      },
      "execution_count": 17,
      "outputs": [
        {
          "output_type": "execute_result",
          "data": {
            "text/plain": [
              "tensor([[0.5932, 0.1123, 0.1535, 0.2417, 0.7262, 0.7011, 0.2038],\n",
              "        [0.6511, 0.7745, 0.4369, 0.5191, 0.6159, 0.8102, 0.9801],\n",
              "        [0.1147, 0.3168, 0.6965, 0.9143, 0.9351, 0.9412, 0.5995],\n",
              "        [0.0652, 0.5460, 0.1872, 0.0340, 0.9442, 0.8802, 0.0012],\n",
              "        [0.5936, 0.4158, 0.4177, 0.2711, 0.6923, 0.2038, 0.6833],\n",
              "        [0.7529, 0.8579, 0.6870, 0.0051, 0.1757, 0.7497, 0.6047],\n",
              "        [0.1100, 0.2121, 0.9704, 0.8369, 0.2820, 0.3742, 0.0237]])"
            ]
          },
          "metadata": {},
          "execution_count": 17
        }
      ]
    },
    {
      "cell_type": "code",
      "source": [
        "random_tensor_2 = torch.rand(1, 7)\n",
        "torch.matmul(random_tensor, random_tensor_2.T)"
      ],
      "metadata": {
        "colab": {
          "base_uri": "https://localhost:8080/"
        },
        "id": "0wZw_1GIDHC0",
        "outputId": "012d50ed-6fd4-4a82-8760-0d09e64e57c6"
      },
      "execution_count": 21,
      "outputs": [
        {
          "output_type": "execute_result",
          "data": {
            "text/plain": [
              "tensor([[1.0697],\n",
              "        [1.5364],\n",
              "        [1.4769],\n",
              "        [1.1345],\n",
              "        [1.0047],\n",
              "        [1.3555],\n",
              "        [0.8287]])"
            ]
          },
          "metadata": {},
          "execution_count": 21
        }
      ]
    },
    {
      "cell_type": "code",
      "source": [
        "#set the random seed to 0 and repeat steps to 2 & 3 to create reproducible results\n",
        "RANDOM_SEED = 0\n",
        "torch.manual_seed(RANDOM_SEED)\n",
        "random_tensor_3 = torch.rand(7, 7)\n",
        "random_tensor_4 = torch.rand(1, 7)\n",
        "\n",
        "#multiply the two random seeded tensors\n",
        "torch.matmul(random_tensor_3, random_tensor_4.T)"
      ],
      "metadata": {
        "colab": {
          "base_uri": "https://localhost:8080/"
        },
        "id": "mN7z4KpYDYjE",
        "outputId": "6b97d1e0-33f8-4f1a-f659-f59a28fe7686"
      },
      "execution_count": 23,
      "outputs": [
        {
          "output_type": "execute_result",
          "data": {
            "text/plain": [
              "tensor([[1.8542],\n",
              "        [1.9611],\n",
              "        [2.2884],\n",
              "        [3.0481],\n",
              "        [1.7067],\n",
              "        [2.5290],\n",
              "        [1.7989]])"
            ]
          },
          "metadata": {},
          "execution_count": 23
        }
      ]
    },
    {
      "cell_type": "code",
      "source": [
        "torch.cuda.is_available()"
      ],
      "metadata": {
        "colab": {
          "base_uri": "https://localhost:8080/"
        },
        "id": "nl85fabjD8t8",
        "outputId": "4b7834ea-80fb-4b78-9819-009dd7888453"
      },
      "execution_count": 26,
      "outputs": [
        {
          "output_type": "execute_result",
          "data": {
            "text/plain": [
              "True"
            ]
          },
          "metadata": {},
          "execution_count": 26
        }
      ]
    },
    {
      "cell_type": "code",
      "source": [
        "#creating reproducibility on the GPU\n",
        "\n",
        "torch.cuda.manual_seed(1234)\n",
        "gpu_tensor_A = torch.rand(size = (2, 3), device = \"cuda\")\n",
        "\n",
        "torch.cuda.manual_seed(1234)\n",
        "gpu_tensor_B = torch.rand(size = (2 ,3), device = 'cuda')\n",
        "\n",
        "print(gpu_tensor_A)\n",
        "print(gpu_tensor_B)"
      ],
      "metadata": {
        "colab": {
          "base_uri": "https://localhost:8080/"
        },
        "id": "eqf-LQYAEbPs",
        "outputId": "7f879a7b-81d1-4112-c11b-08b4c9485342"
      },
      "execution_count": 36,
      "outputs": [
        {
          "output_type": "stream",
          "name": "stdout",
          "text": [
            "tensor([[0.1272, 0.8167, 0.5440],\n",
            "        [0.6601, 0.2721, 0.9737]], device='cuda:0')\n",
            "tensor([[0.1272, 0.8167, 0.5440],\n",
            "        [0.6601, 0.2721, 0.9737]], device='cuda:0')\n"
          ]
        }
      ]
    },
    {
      "cell_type": "code",
      "source": [
        "#run matrix multiplication on the tensors stored on the GPU\n",
        "matmul_gpu_tensor = torch.matmul(gpu_tensor_A, gpu_tensor_B.T)\n",
        "matmul_gpu_tensor"
      ],
      "metadata": {
        "colab": {
          "base_uri": "https://localhost:8080/"
        },
        "id": "Che6b6tfFNMW",
        "outputId": "93c205f6-95aa-44d2-9718-c124c9a5f3b4"
      },
      "execution_count": 39,
      "outputs": [
        {
          "output_type": "execute_result",
          "data": {
            "text/plain": [
              "tensor([[0.9792, 0.8358],\n",
              "        [0.8358, 1.4578]], device='cuda:0')"
            ]
          },
          "metadata": {},
          "execution_count": 39
        }
      ]
    },
    {
      "cell_type": "code",
      "source": [
        "#finding the max of the tensor above\n",
        "torch.max(matmul_gpu_tensor), matmul_gpu_tensor.max()"
      ],
      "metadata": {
        "colab": {
          "base_uri": "https://localhost:8080/"
        },
        "id": "WGEGU4DlFoQr",
        "outputId": "c2536394-f46a-44bc-cbd6-936ab761536a"
      },
      "execution_count": 42,
      "outputs": [
        {
          "output_type": "execute_result",
          "data": {
            "text/plain": [
              "(tensor(1.4578, device='cuda:0'), tensor(1.4578, device='cuda:0'))"
            ]
          },
          "metadata": {},
          "execution_count": 42
        }
      ]
    },
    {
      "cell_type": "code",
      "source": [
        "#finding the min of the tensor above\n",
        "torch.min(matmul_gpu_tensor)"
      ],
      "metadata": {
        "colab": {
          "base_uri": "https://localhost:8080/"
        },
        "id": "oLRcoOMLGVsd",
        "outputId": "a903a877-1e7f-46d4-c7d5-c5c312e1957d"
      },
      "execution_count": 43,
      "outputs": [
        {
          "output_type": "execute_result",
          "data": {
            "text/plain": [
              "tensor(0.8358, device='cuda:0')"
            ]
          },
          "metadata": {},
          "execution_count": 43
        }
      ]
    },
    {
      "cell_type": "code",
      "source": [
        "#find the max index value of the above tensor\n",
        "torch.argmax(matmul_gpu_tensor)"
      ],
      "metadata": {
        "colab": {
          "base_uri": "https://localhost:8080/"
        },
        "id": "wVI-F6T1GpuA",
        "outputId": "b9bbb45d-9c70-403d-ad92-cffa10709d49"
      },
      "execution_count": 44,
      "outputs": [
        {
          "output_type": "execute_result",
          "data": {
            "text/plain": [
              "tensor(3, device='cuda:0')"
            ]
          },
          "metadata": {},
          "execution_count": 44
        }
      ]
    },
    {
      "cell_type": "code",
      "source": [
        "matmul_gpu_tensor.argmin()"
      ],
      "metadata": {
        "colab": {
          "base_uri": "https://localhost:8080/"
        },
        "id": "4CWlvpRMGwCi",
        "outputId": "ea793392-6447-496f-80ab-93e7ac69869f"
      },
      "execution_count": 50,
      "outputs": [
        {
          "output_type": "execute_result",
          "data": {
            "text/plain": [
              "tensor(1, device='cuda:0')"
            ]
          },
          "metadata": {},
          "execution_count": 50
        }
      ]
    },
    {
      "cell_type": "code",
      "source": [
        "#question 10 - squeezing a tensor to get rid of excess dimensions\n",
        "torch.manual_seed(7)\n",
        "random_tensor = torch.rand(size = (1, 1, 1, 10), device = 'cpu')\n",
        "\n",
        "print(f\"The output of the first tensor is: {random_tensor}\")\n",
        "print(f\"\\nThe shape of the first tensor is: {random_tensor.shape}\")\n",
        "random_tensor_2 = random_tensor.squeeze()\n",
        "print(f\"\\nThe output of the second tensor is: {random_tensor_2}\")\n",
        "print(f\"\\nThe shape of the second tensor is {random_tensor_2.shape}\")\n",
        "\n"
      ],
      "metadata": {
        "colab": {
          "base_uri": "https://localhost:8080/"
        },
        "id": "fWrXB3hWGzYr",
        "outputId": "ad1211ab-5535-4f85-b8d8-3a0f5bf2ece4"
      },
      "execution_count": 54,
      "outputs": [
        {
          "output_type": "stream",
          "name": "stdout",
          "text": [
            "The output of the first tensor is: tensor([[[[0.5349, 0.1988, 0.6592, 0.6569, 0.2328, 0.4251, 0.2071, 0.6297,\n",
            "           0.3653, 0.8513]]]])\n",
            "\n",
            "The shape of the first tensor is: torch.Size([1, 1, 1, 10])\n",
            "\n",
            "The output of the second tensor is: tensor([0.5349, 0.1988, 0.6592, 0.6569, 0.2328, 0.4251, 0.2071, 0.6297, 0.3653,\n",
            "        0.8513])\n",
            "\n",
            "The shape of the second tensor is torch.Size([10])\n"
          ]
        }
      ]
    }
  ],
  "metadata": {
    "accelerator": "GPU",
    "colab": {
      "gpuType": "T4",
      "provenance": []
    },
    "kernelspec": {
      "display_name": "Python 3",
      "name": "python3"
    },
    "language_info": {
      "name": "python"
    }
  },
  "nbformat": 4,
  "nbformat_minor": 0
}